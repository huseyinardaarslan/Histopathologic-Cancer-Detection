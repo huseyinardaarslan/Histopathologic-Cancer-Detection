{
 "cells": [
  {
   "cell_type": "code",
   "execution_count": 1,
   "id": "cae0c3d0",
   "metadata": {
    "_cell_guid": "b1076dfc-b9ad-4769-8c92-a6c4dae69d19",
    "_uuid": "8f2839f25d086af736a60e9eeb907d3b93b6e0e5",
    "execution": {
     "iopub.execute_input": "2024-08-21T13:34:40.094204Z",
     "iopub.status.busy": "2024-08-21T13:34:40.093776Z",
     "iopub.status.idle": "2024-08-21T13:34:40.100844Z",
     "shell.execute_reply": "2024-08-21T13:34:40.099413Z"
    },
    "papermill": {
     "duration": 0.019502,
     "end_time": "2024-08-21T13:34:40.103507",
     "exception": false,
     "start_time": "2024-08-21T13:34:40.084005",
     "status": "completed"
    },
    "tags": []
   },
   "outputs": [],
   "source": [
    "#NLP for Disaster Tweets"
   ]
  },
  {
   "cell_type": "markdown",
   "id": "797ac005",
   "metadata": {
    "papermill": {
     "duration": 0.007551,
     "end_time": "2024-08-21T13:34:40.119469",
     "exception": false,
     "start_time": "2024-08-21T13:34:40.111918",
     "status": "completed"
    },
    "tags": []
   },
   "source": [
    "The overall purpose of this code is to demonstrate the process of preparing text data, training machine learning models (logistic regression) and deep learning models (sequential neural network), and evaluating their performance on a binary classification task. It also covers text preprocessing and word embeddings using Word2Vec, which are essential steps in many NLP applications."
   ]
  },
  {
   "cell_type": "markdown",
   "id": "f729688b",
   "metadata": {
    "papermill": {
     "duration": 0.007058,
     "end_time": "2024-08-21T13:34:40.133939",
     "exception": false,
     "start_time": "2024-08-21T13:34:40.126881",
     "status": "completed"
    },
    "tags": []
   },
   "source": [
    "1.Importing Libraries\n",
    "\n",
    "Importing necessary libraries for data manipulation, machine learning, natural language processing, and visualization."
   ]
  },
  {
   "cell_type": "code",
   "execution_count": 2,
   "id": "b589c93b",
   "metadata": {
    "execution": {
     "iopub.execute_input": "2024-08-21T13:34:40.150559Z",
     "iopub.status.busy": "2024-08-21T13:34:40.150133Z",
     "iopub.status.idle": "2024-08-21T13:34:59.680608Z",
     "shell.execute_reply": "2024-08-21T13:34:59.679523Z"
    },
    "papermill": {
     "duration": 19.542025,
     "end_time": "2024-08-21T13:34:59.683494",
     "exception": false,
     "start_time": "2024-08-21T13:34:40.141469",
     "status": "completed"
    },
    "tags": []
   },
   "outputs": [],
   "source": [
    "import numpy as np\n",
    "import pandas as pd\n",
    "from sklearn.model_selection import train_test_split\n",
    "from sklearn.metrics import accuracy_score, classification_report\n",
    "from sklearn.linear_model import LogisticRegression\n",
    "from nltk.corpus import stopwords\n",
    "from nltk.tokenize import word_tokenize\n",
    "from gensim.models import Word2Vec\n",
    "import seaborn as sns\n",
    "import matplotlib.pyplot as plt"
   ]
  },
  {
   "cell_type": "markdown",
   "id": "effb8e98",
   "metadata": {
    "papermill": {
     "duration": 0.007167,
     "end_time": "2024-08-21T13:34:59.698214",
     "exception": false,
     "start_time": "2024-08-21T13:34:59.691047",
     "status": "completed"
    },
    "tags": []
   },
   "source": [
    "2.Loading and Displaying Data\n",
    "\n",
    "Load and display the content of two CSV files, which are typically used for building and evaluating machine learning models."
   ]
  },
  {
   "cell_type": "code",
   "execution_count": 3,
   "id": "21b7e497",
   "metadata": {
    "execution": {
     "iopub.execute_input": "2024-08-21T13:34:59.715169Z",
     "iopub.status.busy": "2024-08-21T13:34:59.714555Z",
     "iopub.status.idle": "2024-08-21T13:34:59.801045Z",
     "shell.execute_reply": "2024-08-21T13:34:59.799753Z"
    },
    "papermill": {
     "duration": 0.098278,
     "end_time": "2024-08-21T13:34:59.804109",
     "exception": false,
     "start_time": "2024-08-21T13:34:59.705831",
     "status": "completed"
    },
    "tags": []
   },
   "outputs": [
    {
     "name": "stdout",
     "output_type": "stream",
     "text": [
      "Train Data:\n",
      "   id keyword location                                               text  \\\n",
      "0   1     NaN      NaN  Our Deeds are the Reason of this #earthquake M...   \n",
      "1   4     NaN      NaN             Forest fire near La Ronge Sask. Canada   \n",
      "2   5     NaN      NaN  All residents asked to 'shelter in place' are ...   \n",
      "3   6     NaN      NaN  13,000 people receive #wildfires evacuation or...   \n",
      "4   7     NaN      NaN  Just got sent this photo from Ruby #Alaska as ...   \n",
      "\n",
      "   target  \n",
      "0       1  \n",
      "1       1  \n",
      "2       1  \n",
      "3       1  \n",
      "4       1  \n",
      "\n",
      "Test Data:\n",
      "   id keyword location                                               text\n",
      "0   0     NaN      NaN                 Just happened a terrible car crash\n",
      "1   2     NaN      NaN  Heard about #earthquake is different cities, s...\n",
      "2   3     NaN      NaN  there is a forest fire at spot pond, geese are...\n",
      "3   9     NaN      NaN           Apocalypse lighting. #Spokane #wildfires\n",
      "4  11     NaN      NaN      Typhoon Soudelor kills 28 in China and Taiwan\n"
     ]
    }
   ],
   "source": [
    "train_df = pd.read_csv(\"/kaggle/input/nlp-getting-started/train.csv\")\n",
    "test_df = pd.read_csv(\"/kaggle/input/nlp-getting-started/test.csv\")\n",
    "\n",
    "print(\"Train Data:\")\n",
    "print(train_df.head())\n",
    "print(\"\\nTest Data:\")\n",
    "print(test_df.head())"
   ]
  },
  {
   "cell_type": "markdown",
   "id": "a9ca3be9",
   "metadata": {
    "papermill": {
     "duration": 0.007191,
     "end_time": "2024-08-21T13:34:59.819031",
     "exception": false,
     "start_time": "2024-08-21T13:34:59.811840",
     "status": "completed"
    },
    "tags": []
   },
   "source": [
    "3.Target Labels Distribution Visualization\n",
    "\n",
    "Visualizing the distribution of target labels in the training dataset using a bar plot"
   ]
  },
  {
   "cell_type": "code",
   "execution_count": 4,
   "id": "276a576b",
   "metadata": {
    "execution": {
     "iopub.execute_input": "2024-08-21T13:34:59.836371Z",
     "iopub.status.busy": "2024-08-21T13:34:59.835920Z",
     "iopub.status.idle": "2024-08-21T13:35:00.128581Z",
     "shell.execute_reply": "2024-08-21T13:35:00.127409Z"
    },
    "papermill": {
     "duration": 0.304749,
     "end_time": "2024-08-21T13:35:00.131239",
     "exception": false,
     "start_time": "2024-08-21T13:34:59.826490",
     "status": "completed"
    },
    "tags": []
   },
   "outputs": [
    {
     "data": {
      "image/png": "[encoded data removed]",
      "text/plain": [
       "<Figure size 800x600 with 1 Axes>"
      ]
     },
     "metadata": {},
     "output_type": "display_data"
    }
   ],
   "source": [
    "plt.figure(figsize=(8, 6))\n",
    "sns.countplot(x='target', data=train_df, palette='viridis')\n",
    "plt.title('Distribution of Target Labels in Training Data')\n",
    "plt.xlabel('Target')\n",
    "plt.ylabel('Count')\n",
    "plt.show()\n"
   ]
  },
  {
   "cell_type": "markdown",
   "id": "4fddc9dc",
   "metadata": {
    "papermill": {
     "duration": 0.007702,
     "end_time": "2024-08-21T13:35:00.147257",
     "exception": false,
     "start_time": "2024-08-21T13:35:00.139555",
     "status": "completed"
    },
    "tags": []
   },
   "source": [
    "4.Text Preprocessing\n",
    "\n",
    "Perform common text preprocessing steps, such as tokenization, lowercase conversion, and stopwords removal, to prepare the text data for further natural language processing or machine learning tasks."
   ]
  },
  {
   "cell_type": "code",
   "execution_count": 5,
   "id": "5ae97e57",
   "metadata": {
    "execution": {
     "iopub.execute_input": "2024-08-21T13:35:00.166629Z",
     "iopub.status.busy": "2024-08-21T13:35:00.166199Z",
     "iopub.status.idle": "2024-08-21T13:35:03.995605Z",
     "shell.execute_reply": "2024-08-21T13:35:03.994368Z"
    },
    "papermill": {
     "duration": 3.843025,
     "end_time": "2024-08-21T13:35:03.998412",
     "exception": false,
     "start_time": "2024-08-21T13:35:00.155387",
     "status": "completed"
    },
    "tags": []
   },
   "outputs": [],
   "source": [
    "stop_words = set(stopwords.words('english'))\n",
    "\n",
    "def preprocess_text(text):\n",
    "    words = word_tokenize(text)\n",
    "    words = [word.lower() for word in words if word.isalpha() and word.lower() not in stop_words]\n",
    "    return ' '.join(words)\n",
    "\n",
    "train_df['processed_text'] = train_df['text'].apply(preprocess_text)\n",
    "test_df['processed_text'] = test_df['text'].apply(preprocess_text)"
   ]
  },
  {
   "cell_type": "markdown",
   "id": "95627dd4",
   "metadata": {
    "papermill": {
     "duration": 0.008679,
     "end_time": "2024-08-21T13:35:04.016527",
     "exception": false,
     "start_time": "2024-08-21T13:35:04.007848",
     "status": "completed"
    },
    "tags": []
   },
   "source": [
    "5.Word Embeddings with Word2Vec\n",
    " \n",
    "Training a Word2Vec model on the preprocessed text data. Saving the trained Word2Vec model for later use in word embedding-based NLP tasks"
   ]
  },
  {
   "cell_type": "code",
   "execution_count": 6,
   "id": "55f84168",
   "metadata": {
    "execution": {
     "iopub.execute_input": "2024-08-21T13:35:04.034127Z",
     "iopub.status.busy": "2024-08-21T13:35:04.033707Z",
     "iopub.status.idle": "2024-08-21T13:35:05.583780Z",
     "shell.execute_reply": "2024-08-21T13:35:05.582432Z"
    },
    "papermill": {
     "duration": 1.562334,
     "end_time": "2024-08-21T13:35:05.586750",
     "exception": false,
     "start_time": "2024-08-21T13:35:04.024416",
     "status": "completed"
    },
    "tags": []
   },
   "outputs": [],
   "source": [
    "word2vec_model = Word2Vec(sentences=train_df['processed_text'].apply(lambda x: x.split()),\n",
    "                          vector_size=500, window=4, min_count=1, workers=5)\n",
    "\n",
    "word2vec_model.save(\"word2vec_model\")"
   ]
  },
  {
   "cell_type": "markdown",
   "id": "34788283",
   "metadata": {
    "papermill": {
     "duration": 0.008005,
     "end_time": "2024-08-21T13:35:05.602743",
     "exception": false,
     "start_time": "2024-08-21T13:35:05.594738",
     "status": "completed"
    },
    "tags": []
   },
   "source": [
    "6.Word Embedding Extraction\n",
    "\n",
    "Calculating word embeddings for the processed text data in both the training and test datasets using a pre-trained Word2Vec model. These word embeddings can be used as numerical representations of the text data in machine learning models for various NLP tasks."
   ]
  },
  {
   "cell_type": "code",
   "execution_count": 7,
   "id": "e5940845",
   "metadata": {
    "execution": {
     "iopub.execute_input": "2024-08-21T13:35:05.620667Z",
     "iopub.status.busy": "2024-08-21T13:35:05.620214Z",
     "iopub.status.idle": "2024-08-21T13:35:06.421628Z",
     "shell.execute_reply": "2024-08-21T13:35:06.420562Z"
    },
    "papermill": {
     "duration": 0.813685,
     "end_time": "2024-08-21T13:35:06.424447",
     "exception": false,
     "start_time": "2024-08-21T13:35:05.610762",
     "status": "completed"
    },
    "tags": []
   },
   "outputs": [],
   "source": [
    "def get_word_embedding(text):\n",
    "    embedding = np.zeros(500)\n",
    "    count = 0\n",
    "    for word in text.split():\n",
    "        if word in word2vec_model.wv:\n",
    "            embedding += word2vec_model.wv[word]\n",
    "            count += 1\n",
    "    if count != 0:\n",
    "        embedding /= count\n",
    "    return embedding\n",
    "\n",
    "train_df['word_embedding'] = train_df['processed_text'].apply(get_word_embedding)\n",
    "test_df['word_embedding'] = test_df['processed_text'].apply(get_word_embedding)"
   ]
  },
  {
   "cell_type": "markdown",
   "id": "522155d3",
   "metadata": {
    "papermill": {
     "duration": 0.007658,
     "end_time": "2024-08-21T13:35:06.440044",
     "exception": false,
     "start_time": "2024-08-21T13:35:06.432386",
     "status": "completed"
    },
    "tags": []
   },
   "source": [
    "7.Data Preparation and Logistic Regression Model Training\n",
    "\n",
    "Preparing the data by converting word embeddings and labels into NumPy arrays, splits the data into training and validation sets, and trains a logistic regression model on the training data to make predictions."
   ]
  },
  {
   "cell_type": "code",
   "execution_count": 8,
   "id": "1a968d2b",
   "metadata": {
    "execution": {
     "iopub.execute_input": "2024-08-21T13:35:06.457833Z",
     "iopub.status.busy": "2024-08-21T13:35:06.457382Z",
     "iopub.status.idle": "2024-08-21T13:35:06.573974Z",
     "shell.execute_reply": "2024-08-21T13:35:06.572399Z"
    },
    "papermill": {
     "duration": 0.130278,
     "end_time": "2024-08-21T13:35:06.578223",
     "exception": false,
     "start_time": "2024-08-21T13:35:06.447945",
     "status": "completed"
    },
    "tags": []
   },
   "outputs": [
    {
     "data": {
      "text/html": [
       "<style>#sk-container-id-1 {color: black;background-color: white;}#sk-container-id-1 pre{padding: 0;}#sk-container-id-1 div.sk-toggleable {background-color: white;}#sk-container-id-1 label.sk-toggleable__label {cursor: pointer;display: block;width: 100%;margin-bottom: 0;padding: 0.3em;box-sizing: border-box;text-align: center;}#sk-container-id-1 label.sk-toggleable__label-arrow:before {content: \"▸\";float: left;margin-right: 0.25em;color: #696969;}#sk-container-id-1 label.sk-toggleable__label-arrow:hover:before {color: black;}#sk-container-id-1 div.sk-estimator:hover label.sk-toggleable__label-arrow:before {color: black;}#sk-container-id-1 div.sk-toggleable__content {max-height: 0;max-width: 0;overflow: hidden;text-align: left;background-color: #f0f8ff;}#sk-container-id-1 div.sk-toggleable__content pre {margin: 0.2em;color: black;border-radius: 0.25em;background-color: #f0f8ff;}#sk-container-id-1 input.sk-toggleable__control:checked~div.sk-toggleable__content {max-height: 200px;max-width: 100%;overflow: auto;}#sk-container-id-1 input.sk-toggleable__control:checked~label.sk-toggleable__label-arrow:before {content: \"▾\";}#sk-container-id-1 div.sk-estimator input.sk-toggleable__control:checked~label.sk-toggleable__label {background-color: #d4ebff;}#sk-container-id-1 div.sk-label input.sk-toggleable__control:checked~label.sk-toggleable__label {background-color: #d4ebff;}#sk-container-id-1 input.sk-hidden--visually {border: 0;clip: rect(1px 1px 1px 1px);clip: rect(1px, 1px, 1px, 1px);height: 1px;margin: -1px;overflow: hidden;padding: 0;position: absolute;width: 1px;}#sk-container-id-1 div.sk-estimator {font-family: monospace;background-color: #f0f8ff;border: 1px dotted black;border-radius: 0.25em;box-sizing: border-box;margin-bottom: 0.5em;}#sk-container-id-1 div.sk-estimator:hover {background-color: #d4ebff;}#sk-container-id-1 div.sk-parallel-item::after {content: \"\";width: 100%;border-bottom: 1px solid gray;flex-grow: 1;}#sk-container-id-1 div.sk-label:hover label.sk-toggleable__label {background-color: #d4ebff;}#sk-container-id-1 div.sk-serial::before {content: \"\";position: absolute;border-left: 1px solid gray;box-sizing: border-box;top: 0;bottom: 0;left: 50%;z-index: 0;}#sk-container-id-1 div.sk-serial {display: flex;flex-direction: column;align-items: center;background-color: white;padding-right: 0.2em;padding-left: 0.2em;position: relative;}#sk-container-id-1 div.sk-item {position: relative;z-index: 1;}#sk-container-id-1 div.sk-parallel {display: flex;align-items: stretch;justify-content: center;background-color: white;position: relative;}#sk-container-id-1 div.sk-item::before, #sk-container-id-1 div.sk-parallel-item::before {content: \"\";position: absolute;border-left: 1px solid gray;box-sizing: border-box;top: 0;bottom: 0;left: 50%;z-index: -1;}#sk-container-id-1 div.sk-parallel-item {display: flex;flex-direction: column;z-index: 1;position: relative;background-color: white;}#sk-container-id-1 div.sk-parallel-item:first-child::after {align-self: flex-end;width: 50%;}#sk-container-id-1 div.sk-parallel-item:last-child::after {align-self: flex-start;width: 50%;}#sk-container-id-1 div.sk-parallel-item:only-child::after {width: 0;}#sk-container-id-1 div.sk-dashed-wrapped {border: 1px dashed gray;margin: 0 0.4em 0.5em 0.4em;box-sizing: border-box;padding-bottom: 0.4em;background-color: white;}#sk-container-id-1 div.sk-label label {font-family: monospace;font-weight: bold;display: inline-block;line-height: 1.2em;}#sk-container-id-1 div.sk-label-container {text-align: center;}#sk-container-id-1 div.sk-container {/* jupyter's `normalize.less` sets `[hidden] { display: none; }` but bootstrap.min.css set `[hidden] { display: none !important; }` so we also need the `!important` here to be able to override the default hidden behavior on the sphinx rendered scikit-learn.org. See: https://github.com/scikit-learn/scikit-learn/issues/21755 */display: inline-block !important;position: relative;}#sk-container-id-1 div.sk-text-repr-fallback {display: none;}</style><div id=\"sk-container-id-1\" class=\"sk-top-container\"><div class=\"sk-text-repr-fallback\"><pre>LogisticRegression(random_state=42)</pre><b>In a Jupyter environment, please rerun this cell to show the HTML representation or trust the notebook. <br />On GitHub, the HTML representation is unable to render, please try loading this page with nbviewer.org.</b></div><div class=\"sk-container\" hidden><div class=\"sk-item\"><div class=\"sk-estimator sk-toggleable\"><input class=\"sk-toggleable__control sk-hidden--visually\" id=\"sk-estimator-id-1\" type=\"checkbox\" checked><label for=\"sk-estimator-id-1\" class=\"sk-toggleable__label sk-toggleable__label-arrow\">LogisticRegression</label><div class=\"sk-toggleable__content\"><pre>LogisticRegression(random_state=42)</pre></div></div></div></div></div>"
      ],
      "text/plain": [
       "LogisticRegression(random_state=42)"
      ]
     },
     "execution_count": 8,
     "metadata": {},
     "output_type": "execute_result"
    }
   ],
   "source": [
    "X = np.array(train_df['word_embedding'].to_list())\n",
    "y = np.array(train_df['target'])\n",
    "\n",
    "X_train, X_val, y_train, y_val = train_test_split(X, y, test_size=0.2, random_state=42)\n",
    "\n",
    "\n",
    "model = LogisticRegression(C=1.0,random_state=42)\n",
    "model.fit(X_train, y_train)"
   ]
  },
  {
   "cell_type": "markdown",
   "id": "09ec71e4",
   "metadata": {
    "papermill": {
     "duration": 0.016453,
     "end_time": "2024-08-21T13:35:06.611966",
     "exception": false,
     "start_time": "2024-08-21T13:35:06.595513",
     "status": "completed"
    },
    "tags": []
   },
   "source": [
    "8.Evaluating Logistic Regression Model Performance\n",
    "\n",
    "Evaluating the logistic regression model's performance on the validation data, including accuracy and a detailed classification report, which helps assess how well the model is performing on the task of classifying the text data."
   ]
  },
  {
   "cell_type": "code",
   "execution_count": 9,
   "id": "e6978f31",
   "metadata": {
    "execution": {
     "iopub.execute_input": "2024-08-21T13:35:06.648382Z",
     "iopub.status.busy": "2024-08-21T13:35:06.647669Z",
     "iopub.status.idle": "2024-08-21T13:35:06.684744Z",
     "shell.execute_reply": "2024-08-21T13:35:06.683265Z"
    },
    "papermill": {
     "duration": 0.060371,
     "end_time": "2024-08-21T13:35:06.689167",
     "exception": false,
     "start_time": "2024-08-21T13:35:06.628796",
     "status": "completed"
    },
    "tags": []
   },
   "outputs": [
    {
     "name": "stdout",
     "output_type": "stream",
     "text": [
      "Model Accuracy: 0.60\n",
      "Classification Report:\n",
      "              precision    recall  f1-score   support\n",
      "\n",
      "           0       0.61      0.84      0.71       874\n",
      "           1       0.56      0.27      0.36       649\n",
      "\n",
      "    accuracy                           0.60      1523\n",
      "   macro avg       0.58      0.55      0.53      1523\n",
      "weighted avg       0.59      0.60      0.56      1523\n",
      "\n"
     ]
    }
   ],
   "source": [
    "y_pred = model.predict(X_val)\n",
    "\n",
    "accuracy = accuracy_score(y_val, y_pred)\n",
    "classification_rep = classification_report(y_val, y_pred)\n",
    "\n",
    "print(f\"Model Accuracy: {accuracy:.2f}\")\n",
    "print(\"Classification Report:\")\n",
    "print(classification_rep)"
   ]
  },
  {
   "cell_type": "markdown",
   "id": "85e58442",
   "metadata": {
    "papermill": {
     "duration": 0.016364,
     "end_time": "2024-08-21T13:35:06.722770",
     "exception": false,
     "start_time": "2024-08-21T13:35:06.706406",
     "status": "completed"
    },
    "tags": []
   },
   "source": [
    "9.Sequential Neural Network Model\n",
    "\n",
    "Building and training a sequential neural network model for text classification using Keras."
   ]
  },
  {
   "cell_type": "code",
   "execution_count": 10,
   "id": "027a8d26",
   "metadata": {
    "execution": {
     "iopub.execute_input": "2024-08-21T13:35:06.759686Z",
     "iopub.status.busy": "2024-08-21T13:35:06.758934Z",
     "iopub.status.idle": "2024-08-21T13:35:32.729252Z",
     "shell.execute_reply": "2024-08-21T13:35:32.728037Z"
    },
    "papermill": {
     "duration": 25.992307,
     "end_time": "2024-08-21T13:35:32.731914",
     "exception": false,
     "start_time": "2024-08-21T13:35:06.739607",
     "status": "completed"
    },
    "tags": []
   },
   "outputs": [
    {
     "name": "stderr",
     "output_type": "stream",
     "text": [
      "2024-08-21 13:35:08.996106: E external/local_xla/xla/stream_executor/cuda/cuda_dnn.cc:9261] Unable to register cuDNN factory: Attempting to register factory for plugin cuDNN when one has already been registered\n",
      "2024-08-21 13:35:08.996247: E external/local_xla/xla/stream_executor/cuda/cuda_fft.cc:607] Unable to register cuFFT factory: Attempting to register factory for plugin cuFFT when one has already been registered\n",
      "2024-08-21 13:35:09.169470: E external/local_xla/xla/stream_executor/cuda/cuda_blas.cc:1515] Unable to register cuBLAS factory: Attempting to register factory for plugin cuBLAS when one has already been registered\n"
     ]
    },
    {
     "name": "stdout",
     "output_type": "stream",
     "text": [
      "Epoch 1/3\n",
      "\u001b[1m96/96\u001b[0m \u001b[32m━━━━━━━━━━━━━━━━━━━━\u001b[0m\u001b[37m\u001b[0m \u001b[1m6s\u001b[0m 30ms/step - accuracy: 0.5563 - loss: 0.6780 - val_accuracy: 0.6953 - val_loss: 0.6160\n",
      "Epoch 2/3\n",
      "\u001b[1m96/96\u001b[0m \u001b[32m━━━━━━━━━━━━━━━━━━━━\u001b[0m\u001b[37m\u001b[0m \u001b[1m2s\u001b[0m 26ms/step - accuracy: 0.7260 - loss: 0.5688 - val_accuracy: 0.7833 - val_loss: 0.4728\n",
      "Epoch 3/3\n",
      "\u001b[1m96/96\u001b[0m \u001b[32m━━━━━━━━━━━━━━━━━━━━\u001b[0m\u001b[37m\u001b[0m \u001b[1m2s\u001b[0m 25ms/step - accuracy: 0.8418 - loss: 0.3791 - val_accuracy: 0.7886 - val_loss: 0.4613\n"
     ]
    },
    {
     "data": {
      "text/plain": [
       "<keras.src.callbacks.history.History at 0x792306758550>"
      ]
     },
     "execution_count": 10,
     "metadata": {},
     "output_type": "execute_result"
    }
   ],
   "source": [
    "from tensorflow.keras.models import Sequential\n",
    "from tensorflow.keras.layers import Embedding, LSTM, Dense, Dropout\n",
    "from tensorflow.keras.preprocessing.text import Tokenizer\n",
    "from tensorflow.keras.preprocessing.sequence import pad_sequences\n",
    "\n",
    "tokenizer = Tokenizer()\n",
    "tokenizer.fit_on_texts(train_df['processed_text'])\n",
    "\n",
    "sequences = tokenizer.texts_to_sequences(train_df['processed_text'])\n",
    "X_seq = pad_sequences(sequences, maxlen=50)  \n",
    "\n",
    "X_train_seq, X_val_seq, y_train_seq, y_val_seq = train_test_split(X_seq, y, test_size=0.2, random_state=42)\n",
    "\n",
    "model_seq = Sequential()\n",
    "model_seq.add(Embedding(input_dim=len(tokenizer.word_index)+1, output_dim=25))\n",
    "model_seq.add(LSTM(25, dropout=0.4, recurrent_dropout=0.4))\n",
    "model_seq.add(Dense(1, activation='sigmoid'))\n",
    "\n",
    "model_seq.compile(optimizer='adam', loss='binary_crossentropy', metrics=['accuracy'])\n",
    "\n",
    "model_seq.fit(X_train_seq, y_train_seq, epochs=3, batch_size=64, validation_data=(X_val_seq, y_val_seq))\n"
   ]
  },
  {
   "cell_type": "markdown",
   "id": "5c1d50d2",
   "metadata": {
    "papermill": {
     "duration": 0.018359,
     "end_time": "2024-08-21T13:35:32.768960",
     "exception": false,
     "start_time": "2024-08-21T13:35:32.750601",
     "status": "completed"
    },
    "tags": []
   },
   "source": [
    "10.Evaluating Sequential Neural Network Model Performance\n",
    "\n",
    "Evaluating the performance of the previously trained sequential neural network model on a validation set."
   ]
  },
  {
   "cell_type": "code",
   "execution_count": 11,
   "id": "fa94b047",
   "metadata": {
    "execution": {
     "iopub.execute_input": "2024-08-21T13:35:32.808510Z",
     "iopub.status.busy": "2024-08-21T13:35:32.807262Z",
     "iopub.status.idle": "2024-08-21T13:35:33.279705Z",
     "shell.execute_reply": "2024-08-21T13:35:33.278404Z"
    },
    "papermill": {
     "duration": 0.494879,
     "end_time": "2024-08-21T13:35:33.282347",
     "exception": false,
     "start_time": "2024-08-21T13:35:32.787468",
     "status": "completed"
    },
    "tags": []
   },
   "outputs": [
    {
     "name": "stdout",
     "output_type": "stream",
     "text": [
      "\u001b[1m48/48\u001b[0m \u001b[32m━━━━━━━━━━━━━━━━━━━━\u001b[0m\u001b[37m\u001b[0m \u001b[1m0s\u001b[0m 6ms/step - accuracy: 0.7861 - loss: 0.4783\n",
      "Sequential Model Accuracy on Validation Set: 0.79\n"
     ]
    }
   ],
   "source": [
    "sequences_test = tokenizer.texts_to_sequences(test_df['processed_text'])\n",
    "X_test_seq = pad_sequences(sequences_test, maxlen=50)\n",
    "\n",
    "\n",
    "loss_val, accuracy_val = model_seq.evaluate(X_val_seq, y_val_seq)\n",
    "print(f\"Sequential Model Accuracy on Validation Set: {accuracy_val:.2f}\")"
   ]
  },
  {
   "cell_type": "markdown",
   "id": "aa79641e",
   "metadata": {
    "papermill": {
     "duration": 0.019624,
     "end_time": "2024-08-21T13:35:33.323240",
     "exception": false,
     "start_time": "2024-08-21T13:35:33.303616",
     "status": "completed"
    },
    "tags": []
   },
   "source": [
    "11.Test Set Prediction and Submission\n",
    "\n",
    "Make predictions on the test set and create a submission file."
   ]
  },
  {
   "cell_type": "code",
   "execution_count": 12,
   "id": "9f1d593d",
   "metadata": {
    "execution": {
     "iopub.execute_input": "2024-08-21T13:35:33.365091Z",
     "iopub.status.busy": "2024-08-21T13:35:33.364154Z",
     "iopub.status.idle": "2024-08-21T13:35:34.576609Z",
     "shell.execute_reply": "2024-08-21T13:35:34.575510Z"
    },
    "papermill": {
     "duration": 1.236391,
     "end_time": "2024-08-21T13:35:34.579404",
     "exception": false,
     "start_time": "2024-08-21T13:35:33.343013",
     "status": "completed"
    },
    "tags": []
   },
   "outputs": [
    {
     "name": "stdout",
     "output_type": "stream",
     "text": [
      "\u001b[1m102/102\u001b[0m \u001b[32m━━━━━━━━━━━━━━━━━━━━\u001b[0m\u001b[37m\u001b[0m \u001b[1m1s\u001b[0m 8ms/step\n"
     ]
    }
   ],
   "source": [
    "test_predictions_seq = [0 if val < 0.5 else 1 for val in model_seq.predict(X_test_seq)]\n",
    "\n",
    "submission_df_seq = pd.DataFrame({'id': test_df['id'], 'target': test_predictions_seq})\n",
    "\n",
    "submission_df_seq.to_csv(\"submission.csv\", index=False)"
   ]
  }
 ],
 "metadata": {
  "kaggle": {
   "accelerator": "none",
   "dataSources": [
    {
     "databundleVersionId": 869809,
     "sourceId": 17777,
     "sourceType": "competition"
    }
   ],
   "dockerImageVersionId": 30664,
   "isGpuEnabled": false,
   "isInternetEnabled": true,
   "language": "python",
   "sourceType": "notebook"
  },
  "kernelspec": {
   "display_name": "Python 3",
   "language": "python",
   "name": "python3"
  },
  "language_info": {
   "codemirror_mode": {
    "name": "ipython",
    "version": 3
   },
   "file_extension": ".py",
   "mimetype": "text/x-python",
   "name": "python",
   "nbconvert_exporter": "python",
   "pygments_lexer": "ipython3",
   "version": "3.10.13"
  },
  "papermill": {
   "default_parameters": {},
   "duration": 60.271573,
   "end_time": "2024-08-21T13:35:37.129054",
   "environment_variables": {},
   "exception": null,
   "input_path": "__notebook__.ipynb",
   "output_path": "__notebook__.ipynb",
   "parameters": {},
   "start_time": "2024-08-21T13:34:36.857481",
   "version": "2.5.0"
  }
 },
 "nbformat": 4,
 "nbformat_minor": 5
}
